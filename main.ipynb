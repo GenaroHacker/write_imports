{
  "nbformat": 4,
  "nbformat_minor": 0,
  "metadata": {
    "colab": {
      "provenance": [],
      "authorship_tag": "ABX9TyM4VldozsFCt4+R/KJDSkuk",
      "include_colab_link": true
    },
    "kernelspec": {
      "name": "python3",
      "display_name": "Python 3"
    },
    "language_info": {
      "name": "python"
    }
  },
  "cells": [
    {
      "cell_type": "markdown",
      "metadata": {
        "id": "view-in-github",
        "colab_type": "text"
      },
      "source": [
        "<a href=\"https://colab.research.google.com/github/GenaroHacker/write_imports/blob/main/main.ipynb\" target=\"_parent\"><img src=\"https://colab.research.google.com/assets/colab-badge.svg\" alt=\"Open In Colab\"/></a>"
      ]
    },
    {
      "cell_type": "code",
      "execution_count": 5,
      "metadata": {
        "id": "a10dKvHmxoze"
      },
      "outputs": [],
      "source": [
        "%%capture\n",
        "#@title Set Up\n",
        "!git clone https://github.com/GenaroHacker/write_imports.git\n",
        "from write_imports.write_imports import write_imports\n",
        "\n",
        "#!git clone YOUR_REPO_LINK_GOES_HERE\n",
        "\n"
      ]
    },
    {
      "cell_type": "code",
      "source": [
        "#@title Import Statements\n",
        "print(write_imports([]))\n",
        "from write_imports.LearningPython.BasicExamples.intro_functions import print_hello_world\n",
        "\n",
        "\n"
      ],
      "metadata": {
        "id": "1qVDR-TJx4VB",
        "outputId": "c42986da-874b-4994-ee68-a1d9804eb6b0",
        "colab": {
          "base_uri": "https://localhost:8080/"
        },
        "cellView": "form"
      },
      "execution_count": 4,
      "outputs": [
        {
          "output_type": "stream",
          "name": "stdout",
          "text": [
            "%%capture\n",
            "#@title Import Statements\n",
            "#Modules: ['write_imports']\n",
            "\n",
            "\n",
            "\n",
            "print(write_imports([]))\n",
            "\n",
            "\n",
            "\n",
            "from write_imports.write_imports import write_imports\n",
            "\n",
            "from write_imports.LearningPython.BasicExamples.intro_functions import print_hello_world\n",
            "\n",
            "\n"
          ]
        }
      ]
    },
    {
      "cell_type": "code",
      "source": [
        "#@title Main Program Execution\n",
        "print_hello_world()\n",
        "\n"
      ],
      "metadata": {
        "cellView": "form",
        "id": "uqzaFqpB2eVn",
        "outputId": "1601ee86-48ce-408f-969a-f4fc89ded5b5",
        "colab": {
          "base_uri": "https://localhost:8080/"
        }
      },
      "execution_count": 3,
      "outputs": [
        {
          "output_type": "stream",
          "name": "stdout",
          "text": [
            "Hello, World!\n"
          ]
        }
      ]
    }
  ]
}