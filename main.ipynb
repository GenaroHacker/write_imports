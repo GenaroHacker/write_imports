{
  "nbformat": 4,
  "nbformat_minor": 0,
  "metadata": {
    "colab": {
      "provenance": [],
      "authorship_tag": "ABX9TyNlbAW+pRqmKDH5AZcWVLBo",
      "include_colab_link": true
    },
    "kernelspec": {
      "name": "python3",
      "display_name": "Python 3"
    },
    "language_info": {
      "name": "python"
    }
  },
  "cells": [
    {
      "cell_type": "markdown",
      "metadata": {
        "id": "view-in-github",
        "colab_type": "text"
      },
      "source": [
        "<a href=\"https://colab.research.google.com/github/GenaroHacker/write_imports/blob/main/main.ipynb\" target=\"_parent\"><img src=\"https://colab.research.google.com/assets/colab-badge.svg\" alt=\"Open In Colab\"/></a>"
      ]
    },
    {
      "cell_type": "code",
      "execution_count": 1,
      "metadata": {
        "id": "a10dKvHmxoze",
        "cellView": "form"
      },
      "outputs": [],
      "source": [
        "%%capture\n",
        "#@title Set Up\n",
        "!git clone https://github.com/GenaroHacker/dict_to_pattern.git\n",
        "import os\n",
        "os.chdir('/content/dict_to_pattern/skaffolders/facade')\n",
        "from dict_to_pattern.skaffolders.facade.project_creator import ProjectCreator\n",
        "os.chdir('/content')\n",
        "\n",
        "\n",
        "import shutil\n",
        "from google.colab import files\n",
        "\n",
        "def compress_and_download(dir_path):\n",
        "    # Define the name of the zip file\n",
        "    zip_file = dir_path.rstrip('/').split('/')[-1] + '.zip'\n",
        "\n",
        "    # Compress the directory\n",
        "    shutil.make_archive(zip_file.replace('.zip', ''), 'zip', dir_path)\n",
        "\n",
        "    # Download the zip file\n",
        "    files.download(zip_file)\n",
        "\n"
      ]
    },
    {
      "cell_type": "code",
      "source": [
        "# @title Facade Skaffolder\n",
        "if __name__ == \"__main__\":\n",
        "    project_name = \"FacadeProject\"\n",
        "    project_structure = {\n",
        "        \"Car\": {\n",
        "            \"Engine\": {\n",
        "                \"Cylinders\": {},\n",
        "                \"Pistons\": {}\n",
        "            },\n",
        "            \"Chassis\": {}\n",
        "        }\n",
        "    }\n",
        "\n",
        "    creator = ProjectCreator(project_name, project_structure)\n",
        "    creator.create_project()\n",
        "    compress_and_download(project_name)\n"
      ],
      "metadata": {
        "cellView": "form",
        "id": "GGHHGQLjUgSD",
        "outputId": "88c66d47-e33c-48fc-d808-137f4a599e99",
        "colab": {
          "base_uri": "https://localhost:8080/",
          "height": 17
        }
      },
      "execution_count": 2,
      "outputs": [
        {
          "output_type": "display_data",
          "data": {
            "text/plain": [
              "<IPython.core.display.Javascript object>"
            ],
            "application/javascript": [
              "\n",
              "    async function download(id, filename, size) {\n",
              "      if (!google.colab.kernel.accessAllowed) {\n",
              "        return;\n",
              "      }\n",
              "      const div = document.createElement('div');\n",
              "      const label = document.createElement('label');\n",
              "      label.textContent = `Downloading \"${filename}\": `;\n",
              "      div.appendChild(label);\n",
              "      const progress = document.createElement('progress');\n",
              "      progress.max = size;\n",
              "      div.appendChild(progress);\n",
              "      document.body.appendChild(div);\n",
              "\n",
              "      const buffers = [];\n",
              "      let downloaded = 0;\n",
              "\n",
              "      const channel = await google.colab.kernel.comms.open(id);\n",
              "      // Send a message to notify the kernel that we're ready.\n",
              "      channel.send({})\n",
              "\n",
              "      for await (const message of channel.messages) {\n",
              "        // Send a message to notify the kernel that we're ready.\n",
              "        channel.send({})\n",
              "        if (message.buffers) {\n",
              "          for (const buffer of message.buffers) {\n",
              "            buffers.push(buffer);\n",
              "            downloaded += buffer.byteLength;\n",
              "            progress.value = downloaded;\n",
              "          }\n",
              "        }\n",
              "      }\n",
              "      const blob = new Blob(buffers, {type: 'application/binary'});\n",
              "      const a = document.createElement('a');\n",
              "      a.href = window.URL.createObjectURL(blob);\n",
              "      a.download = filename;\n",
              "      div.appendChild(a);\n",
              "      a.click();\n",
              "      div.remove();\n",
              "    }\n",
              "  "
            ]
          },
          "metadata": {}
        },
        {
          "output_type": "display_data",
          "data": {
            "text/plain": [
              "<IPython.core.display.Javascript object>"
            ],
            "application/javascript": [
              "download(\"download_d1b4b76f-b691-4424-a969-d4335643770b\", \"FacadeProject.zip\", 2786)"
            ]
          },
          "metadata": {}
        }
      ]
    }
  ]
}